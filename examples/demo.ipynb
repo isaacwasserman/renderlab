{
  "nbformat": 4,
  "nbformat_minor": 0,
  "metadata": {
    "colab": {
      "provenance": [],
      "include_colab_link": true
    },
    "kernelspec": {
      "name": "python3",
      "display_name": "Python 3"
    },
    "language_info": {
      "name": "python"
    }
  },
  "cells": [
    {
      "cell_type": "markdown",
      "metadata": {
        "id": "view-in-github",
        "colab_type": "text"
      },
      "source": [
        "<a href=\"https://colab.research.google.com/github/ryanrudes/renderlab/blob/dev/examples/demo.ipynb\" target=\"_parent\"><img src=\"https://colab.research.google.com/assets/colab-badge.svg\" alt=\"Open In Colab\"/></a>"
      ]
    },
    {
      "cell_type": "code",
      "metadata": {
        "id": "LP6XgpV0Valv"
      },
      "source": [
        "!pip install renderlab"
      ],
      "execution_count": null,
      "outputs": []
    },
    {
      "cell_type": "code",
      "metadata": {
        "id": "OpymyGsvVbGS"
      },
      "source": [
        "import gymnasium as gym\n",
        "import renderlab as rl"
      ],
      "execution_count": null,
      "outputs": []
    },
    {
      "cell_type": "code",
      "metadata": {
        "id": "m7to3Bq2Vjy6"
      },
      "source": [
        "env = gym.make(\"CartPole-v1\")\n",
        "env = rl.RenderFrame(env, \"./output\")"
      ],
      "execution_count": null,
      "outputs": []
    },
    {
      "cell_type": "code",
      "source": [
        "observation, info = env.reset()\n",
        "terminated = False\n",
        "\n",
        "while not terminated:\n",
        "  action = env.action_space.sample()\n",
        "  observation, reward, terminated, truncated, info = env.step(action)"
      ],
      "metadata": {
        "id": "_jqGnt7f8Jsw"
      },
      "execution_count": null,
      "outputs": []
    },
    {
      "cell_type": "code",
      "source": [
        "env.play()"
      ],
      "metadata": {
        "id": "NZCY_-0p_F2x"
      },
      "execution_count": null,
      "outputs": []
    }
  ]
}